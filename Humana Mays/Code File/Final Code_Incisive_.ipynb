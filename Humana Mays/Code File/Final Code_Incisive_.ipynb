{
  "nbformat": 4,
  "nbformat_minor": 0,
  "metadata": {
    "colab": {
      "provenance": []
    },
    "kernelspec": {
      "name": "python3",
      "display_name": "Python 3"
    },
    "language_info": {
      "name": "python"
    }
  },
  "cells": [
    {
      "cell_type": "code",
      "source": [
        "from google.colab import drive\n",
        "drive.mount('/content/drive')"
      ],
      "metadata": {
        "colab": {
          "base_uri": "https://localhost:8080/"
        },
        "id": "lgQD1YBM0Y10",
        "outputId": "da6601fe-a931-4cfb-8069-7eec1c858aaf"
      },
      "execution_count": 1,
      "outputs": [
        {
          "output_type": "stream",
          "name": "stdout",
          "text": [
            "Mounted at /content/drive\n"
          ]
        }
      ]
    },
    {
      "cell_type": "code",
      "source": [
        "# Import necessary libraries\n",
        "import pandas as pd\n",
        "from sklearn.ensemble import RandomForestClassifier\n",
        "from sklearn.model_selection import train_test_split\n",
        "from sklearn.metrics import accuracy_score, classification_report, confusion_matrix\n",
        "target_train_path = '/content/drive/MyDrive/target_train.csv'\n",
        "medclms_train_path = '/content/drive/MyDrive/medclms_train.csv'\n",
        "rxclms_train_path = '/content/drive/MyDrive/rxclms_train.csv'\n",
        "# Load the training datasets\n",
        "target_train = pd.read_csv(target_train_path , parse_dates=['therapy_start_date', 'therapy_end_date'])\n",
        "medclms_train = pd.read_csv(medclms_train_path, parse_dates=['visit_date'])\n",
        "rxclms_train = pd.read_csv(rxclms_train_path, parse_dates=['service_date'])"
      ],
      "metadata": {
        "id": "791mi7mF0EWi"
      },
      "execution_count": 26,
      "outputs": []
    },
    {
      "cell_type": "code",
      "source": [
        "# Preprocess target_train.csv\n",
        "target_train = pd.get_dummies(target_train, columns=['sex_cd'], drop_first=True)\n",
        "target_train['therapy_start_date'] = pd.to_datetime(target_train['therapy_start_date']).dt.tz_localize(None)\n",
        "target_train['therapy_end_date'] = pd.to_datetime(target_train['therapy_end_date']).dt.tz_localize(None)\n",
        "target_train['therapy_duration'] = (target_train['therapy_end_date'] - target_train['therapy_start_date']).dt.days\n",
        "\n",
        "# Preprocess medclms_train.csv\n",
        "medclms_train.drop(columns=['reversal_ind', 'clm_type'], inplace=True)\n",
        "medclms_train = pd.get_dummies(medclms_train, columns=['pot', 'util_cat', 'hedis_pot'], drop_first=True)\n",
        "medclms_train['visit_day_of_week'] = medclms_train['visit_date'].dt.dayofweek\n",
        "medclms_train['visit_month'] = medclms_train['visit_date'].dt.month\n",
        "\n",
        "# Preprocess rxclms_train.csv\n",
        "rxclms_train.drop(columns=['reversal_ind', 'clm_type', 'document_key'], inplace=True)\n",
        "rxclms_train = pd.get_dummies(rxclms_train, columns=['gpi_drug_group_desc', 'gpi_drug_class_desc', 'hum_drug_class_desc'], drop_first=True)\n",
        "rxclms_train['service_day_of_week'] = rxclms_train['service_date'].dt.dayofweek\n",
        "rxclms_train['service_month'] = rxclms_train['service_date'].dt.month\n",
        "\n",
        "# Aggregated features for medclms_train.csv\n",
        "medclms_count = medclms_train.groupby('therapy_id').size().reset_index(name='medclms_count')\n",
        "medclms_diagnosis_sum = medclms_train.groupby('therapy_id')[['ade_diagnosis', 'pain_diagnosis', 'diarrhea_diagnosis','constipation_diagnosis','nausea_diagnosis','hyperglycemia_diagnosis','seizure_diagnosis']].sum().reset_index()\n",
        "medclms_aggregated = pd.merge(medclms_count, medclms_diagnosis_sum, on='therapy_id')\n",
        "\n",
        "# Aggregated features for rxclms_train.csv\n",
        "rxclms_count = rxclms_train.groupby('therapy_id').size().reset_index(name='rxclms_count')\n",
        "rxclms_avg_cost = rxclms_train.groupby('therapy_id')['rx_cost'].sum().reset_index(name='avg_rx_cost')\n",
        "rxclms_treatment_sum = rxclms_train.groupby('therapy_id')[['ddi_ind','anticoag_ind', 'diarrhea_treat_ind', 'seizure_treat_ind', 'diarrhea_treat_ind', 'nausea_treat_ind']].sum().reset_index()\n",
        "rxclms_aggregated = pd.merge(rxclms_count, rxclms_avg_cost, on='therapy_id')\n",
        "rxclms_aggregated = pd.merge(rxclms_aggregated, rxclms_treatment_sum, on='therapy_id')\n",
        "\n",
        "# Merge the datasets\n",
        "consolidated_data = pd.merge(target_train, medclms_aggregated, on='therapy_id', how='left')\n",
        "consolidated_data = pd.merge(consolidated_data, rxclms_aggregated, on='therapy_id', how='left')\n",
        "consolidated_data.fillna(0, inplace=True)\n"
      ],
      "metadata": {
        "id": "8TYpvZG00H7m"
      },
      "execution_count": 27,
      "outputs": []
    },
    {
      "cell_type": "code",
      "source": [
        "# Specify the output file path with the filename\n",
        "output_filepath = '/content/drive/MyDrive/consolidated_data.csv'\n",
        "\n",
        "# Save the merged data to a CSV file\n",
        "consolidated_data.to_csv(output_filepath, index=False)"
      ],
      "metadata": {
        "id": "rtGBQTQ-sexD"
      },
      "execution_count": null,
      "outputs": []
    },
    {
      "cell_type": "code",
      "source": [
        "from sklearn.model_selection import train_test_split\n",
        "from sklearn.linear_model import LogisticRegression\n",
        "from sklearn.ensemble import RandomForestClassifier, GradientBoostingClassifier\n",
        "from sklearn.metrics import roc_auc_score, classification_report\n",
        "# Split data into training and validation sets\n",
        "X = consolidated_data.drop(columns=['id','therapy_start_date', 'therapy_end_date', 'therapy_id', 'tgt_ade_dc_ind'])\n",
        "y = target_train['tgt_ade_dc_ind']\n",
        "X_train, X_val, y_train, y_val = train_test_split(X, y, test_size=0.2, random_state=42)\n",
        "\n",
        "# Train the Random Forest model\n",
        "rf_classifier = RandomForestClassifier(random_state=42)\n",
        "rf_classifier.fit(X_train, y_train)\n",
        "\n",
        "# Predict and evaluate on the validation set\n",
        "y_val_pred = rf_classifier.predict(X_val)\n",
        "accuracy = accuracy_score(y_val, y_val_pred)\n",
        "class_report = classification_report(y_val, y_val_pred)\n",
        "conf_matrix = confusion_matrix(y_val, y_val_pred)\n",
        "# Calculate the AUC score\n",
        "auc_score = roc_auc_score(y_val, y_val_pred)\n"
      ],
      "metadata": {
        "id": "1Tc7P0-l0MsR"
      },
      "execution_count": 28,
      "outputs": []
    },
    {
      "cell_type": "code",
      "source": [
        "print(\"Accuracy:\", accuracy)\n",
        "print(\"Classification Report:\\n\", class_report)\n",
        "print(\"Confusion Matrix:\\n\", conf_matrix)\n",
        "\n",
        "\n",
        "# Print the AUC score\n",
        "print(\"AUC Score:\", auc_score)"
      ],
      "metadata": {
        "colab": {
          "base_uri": "https://localhost:8080/"
        },
        "id": "J2Opbp0Y1ARV",
        "outputId": "707daa98-1ac4-4a24-c558-ad9bba3cf243"
      },
      "execution_count": 29,
      "outputs": [
        {
          "output_type": "stream",
          "name": "stdout",
          "text": [
            "Accuracy: 0.9473684210526315\n",
            "Classification Report:\n",
            "               precision    recall  f1-score   support\n",
            "\n",
            "           0       0.96      0.98      0.97       221\n",
            "           1       0.81      0.65      0.72        26\n",
            "\n",
            "    accuracy                           0.95       247\n",
            "   macro avg       0.88      0.82      0.85       247\n",
            "weighted avg       0.94      0.95      0.94       247\n",
            "\n",
            "Confusion Matrix:\n",
            " [[217   4]\n",
            " [  9  17]]\n",
            "AUC Score: 0.8178733031674208\n"
          ]
        }
      ]
    },
    {
      "cell_type": "code",
      "source": [
        "from sklearn.ensemble import GradientBoostingClassifier\n",
        "from sklearn.metrics import accuracy_score, roc_auc_score, confusion_matrix, classification_report\n",
        "from sklearn.model_selection import train_test_split\n",
        "\n",
        "# Your data preparation code here...\n",
        "\n",
        "# Split data into training and validation sets\n",
        "# Assuming consolidated_data and target_train are defined\n",
        "X = consolidated_data.drop(columns=['id','therapy_start_date', 'therapy_end_date', 'therapy_id', 'tgt_ade_dc_ind'])\n",
        "y = target_train['tgt_ade_dc_ind']\n",
        "X_train, X_val, y_train, y_val = train_test_split(X, y, test_size=0.2, random_state=42)\n",
        "\n",
        "# Train the Gradient Boosting model\n",
        "gb_classifier = GradientBoostingClassifier(random_state=42)\n",
        "gb_classifier.fit(X_train, y_train)\n",
        "\n",
        "# Predict on the validation set\n",
        "y_val_pred = gb_classifier.predict(X_val)\n",
        "y_val_proba = gb_classifier.predict_proba(X_val)[:, 1]\n",
        "\n",
        "# Compute evaluation metrics\n",
        "accuracy_gb = accuracy_score(y_val, y_val_pred)\n",
        "auc_gb = roc_auc_score(y_val, y_val_pred)  # Correct method\n",
        "conf_matrix_gb = confusion_matrix(y_val, y_val_pred)\n",
        "class_report = classification_report(y_val, y_val_pred)\n",
        "\n",
        "# Print the results\n",
        "print(\"Accuracy:\", accuracy_gb)\n",
        "print(\"Classification Report:\\n\", class_report)\n",
        "print(\"Confusion Matrix:\\n\", conf_matrix_gb)\n",
        "print(\"AUC Score:\", auc_gb)\n"
      ],
      "metadata": {
        "colab": {
          "base_uri": "https://localhost:8080/"
        },
        "id": "eLdWyzOaAVEU",
        "outputId": "b29af935-a169-412f-a64b-eefde4353fd0"
      },
      "execution_count": 30,
      "outputs": [
        {
          "output_type": "stream",
          "name": "stdout",
          "text": [
            "Accuracy: 0.951417004048583\n",
            "Classification Report:\n",
            "               precision    recall  f1-score   support\n",
            "\n",
            "           0       0.97      0.97      0.97       221\n",
            "           1       0.77      0.77      0.77        26\n",
            "\n",
            "    accuracy                           0.95       247\n",
            "   macro avg       0.87      0.87      0.87       247\n",
            "weighted avg       0.95      0.95      0.95       247\n",
            "\n",
            "Confusion Matrix:\n",
            " [[215   6]\n",
            " [  6  20]]\n",
            "AUC Score: 0.8710407239819005\n"
          ]
        }
      ]
    },
    {
      "cell_type": "code",
      "source": [
        "from sklearn.ensemble import GradientBoostingClassifier\n",
        "from sklearn.metrics import classification_report, roc_auc_score, confusion_matrix, roc_curve, auc\n",
        "from sklearn.model_selection import train_test_split\n",
        "import matplotlib.pyplot as plt\n",
        "\n",
        "# Your data preparation code here...\n",
        "\n",
        "# Assuming consolidated_data and target_train are defined\n",
        "X = consolidated_data.drop(columns=['id','therapy_start_date', 'therapy_end_date', 'therapy_id', 'tgt_ade_dc_ind'])\n",
        "y = target_train['tgt_ade_dc_ind']\n",
        "\n",
        "# Train the Gradient Boosting model on the entire dataset\n",
        "gb_classifier = GradientBoostingClassifier(random_state=42)\n",
        "gb_classifier.fit(X, y)\n",
        "\n",
        "# Predict probabilities for both classes\n",
        "y_proba = gb_classifier.predict_proba(X)\n",
        "\n",
        "# Generate a classification report\n",
        "class_report = classification_report(y, gb_classifier.predict(X))\n",
        "\n",
        "# Compute the ROC curve for both classes\n",
        "fpr, tpr, _ = roc_curve(y, y_proba[:, 1])\n",
        "fpr_neg, tpr_neg, _ = roc_curve(1 - y, 1 - y_proba[:, 0])\n",
        "\n",
        "# Calculate the combined AUC for both classes\n",
        "roc_auc = auc(fpr, tpr)\n",
        "roc_auc_neg = auc(fpr_neg, tpr_neg)\n",
        "\n",
        "# Generate a confusion matrix\n",
        "conf_matrix_gb = confusion_matrix(y, gb_classifier.predict(X))\n",
        "\n",
        "# Print the classification report, combined AUC, and confusion matrix\n",
        "print(\"Classification Report:\\n\", class_report)\n",
        "print(\"Combined AUC Score (Positive Class):\", roc_auc)\n",
        "print(\"Combined AUC Score (Negative Class):\", roc_auc_neg)\n",
        "print(\"Confusion Matrix:\\n\", conf_matrix_gb)\n",
        "\n",
        "# Plot the ROC curve (optional)\n",
        "plt.figure(figsize=(8, 6))\n",
        "plt.plot(fpr, tpr, color='darkorange', lw=2, label='ROC curve (Positive Class) (area = %0.2f)' % roc_auc)\n",
        "plt.plot(fpr_neg, tpr_neg, color='green', lw=2, label='ROC curve (Negative Class) (area = %0.2f)' % roc_auc_neg)\n",
        "plt.plot([0, 1], [0, 1], color='navy', lw=2, linestyle='--')\n",
        "plt.xlim([0.0, 1.0])\n",
        "plt.ylim([0.0, 1.05])\n",
        "plt.xlabel('False Positive Rate')\n",
        "plt.ylabel('True Positive Rate')\n",
        "plt.title('Receiver Operating Characteristic')\n",
        "plt.legend(loc='lower right')\n",
        "plt.show()\n"
      ],
      "metadata": {
        "colab": {
          "base_uri": "https://localhost:8080/",
          "height": 832
        },
        "id": "JrxlhMMbDBQ3",
        "outputId": "0f9553d6-9584-4a97-8de3-10d5da691b8d"
      },
      "execution_count": 34,
      "outputs": [
        {
          "output_type": "stream",
          "name": "stdout",
          "text": [
            "Classification Report:\n",
            "               precision    recall  f1-score   support\n",
            "\n",
            "           0       0.99      1.00      1.00      1115\n",
            "           1       0.99      0.92      0.96       117\n",
            "\n",
            "    accuracy                           0.99      1232\n",
            "   macro avg       0.99      0.96      0.98      1232\n",
            "weighted avg       0.99      0.99      0.99      1232\n",
            "\n",
            "Combined AUC Score (Positive Class): 0.9987275305660955\n",
            "Combined AUC Score (Negative Class): 0.0012724694339044107\n",
            "Confusion Matrix:\n",
            " [[1114    1]\n",
            " [   9  108]]\n"
          ]
        },
        {
          "output_type": "display_data",
          "data": {
            "text/plain": [
              "<Figure size 800x600 with 1 Axes>"
            ],
            "image/png": "[encoded data removed]"
          },
          "metadata": {}
        }
      ]
    },
    {
      "cell_type": "markdown",
      "source": [
        "Validation"
      ],
      "metadata": {
        "id": "lJIzC5kz0Pji"
      }
    },
    {
      "cell_type": "code",
      "execution_count": null,
      "metadata": {
        "id": "F4dXBzmWz2Sr"
      },
      "outputs": [],
      "source": [
        "# Import necessary libraries\n",
        "import pandas as pd\n",
        "from sklearn.ensemble import RandomForestClassifier\n",
        "target_train_path = '/content/drive/MyDrive/target_holdout.csv'\n",
        "medclms_train_path = '/content/drive/MyDrive/medclms_holdout.csv'\n",
        "rxclms_train_path = '/content/drive/MyDrive/rxclms_holdout.csv'\n",
        "\n",
        "# Load the holdout datasets\n",
        "target_holdout = pd.read_csv(target_train_path, parse_dates=['therapy_start_date'])\n",
        "medclms_holdout = pd.read_csv(medclms_train_path, parse_dates=['visit_date'])\n",
        "rxclms_holdout = pd.read_csv(rxclms_train_path, parse_dates=['service_date'])\n"
      ]
    },
    {
      "cell_type": "code",
      "source": [
        "# Preprocess target_holdout.csv\n",
        "target_holdout = pd.get_dummies(target_holdout, columns=['sex_cd'], drop_first=True)\n",
        "\n",
        "# Preprocess medclms_holdout.csv\n",
        "medclms_holdout.drop(columns=['reversal_ind', 'clm_type'], inplace=True)\n",
        "medclms_holdout = pd.get_dummies(medclms_holdout, columns=['pot', 'util_cat', 'hedis_pot'], drop_first=True)\n",
        "medclms_holdout['visit_day_of_week'] = medclms_holdout['visit_date'].dt.dayofweek\n",
        "medclms_holdout['visit_month'] = medclms_holdout['visit_date'].dt.month\n",
        "\n",
        "# Preprocess rxclms_holdout.csv\n",
        "rxclms_holdout.drop(columns=['reversal_ind', 'clm_type', 'document_key'], inplace=True)\n",
        "rxclms_holdout = pd.get_dummies(rxclms_holdout, columns=['gpi_drug_group_desc', 'gpi_drug_class_desc', 'hum_drug_class_desc'], drop_first=True)\n",
        "rxclms_holdout['service_day_of_week'] = rxclms_holdout['service_date'].dt.dayofweek\n",
        "rxclms_holdout['service_month'] = rxclms_holdout['service_date'].dt.month\n",
        "\n",
        "# Aggregated features for medclms_holdout.csv\n",
        "medclms_count_holdout = medclms_holdout.groupby('therapy_id').size().reset_index(name='medclms_count')\n",
        "medclms_diagnosis_sum_holdout = medclms_holdout.groupby('therapy_id')[['ade_diagnosis', 'pain_diagnosis', 'diarrhea_diagnosis','constipation_diagnosis','nausea_diagnosis','hyperglycemia_diagnosis','seizure_diagnosis']].sum().reset_index()\n",
        "medclms_aggregated_holdout = pd.merge(medclms_count_holdout, medclms_diagnosis_sum_holdout, on='therapy_id')\n",
        "\n",
        "# Aggregated features for rxclms_holdout.csv\n",
        "rxclms_count_holdout = rxclms_holdout.groupby('therapy_id').size().reset_index(name='rxclms_count')\n",
        "rxclms_avg_cost_holdout = rxclms_holdout.groupby('therapy_id')['rx_cost'].mean().reset_index(name='avg_rx_cost')\n",
        "rxclms_treatment_sum_holdout = rxclms_holdout.groupby('therapy_id')[['ddi_ind', 'anticoag_ind', 'diarrhea_treat_ind', 'seizure_treat_ind', 'diarrhea_treat_ind', 'nausea_treat_ind']].sum().reset_index()\n",
        "rxclms_aggregated_holdout = pd.merge(rxclms_count_holdout, rxclms_avg_cost_holdout, on='therapy_id')\n",
        "rxclms_aggregated_holdout = pd.merge(rxclms_aggregated_holdout, rxclms_treatment_sum_holdout, on='therapy_id')\n",
        "\n",
        "# Merge the datasets\n",
        "consolidated_data_holdout = pd.merge(target_holdout, medclms_aggregated_holdout, on='therapy_id', how='left')\n",
        "consolidated_data_holdout = pd.merge(consolidated_data_holdout, rxclms_aggregated_holdout, on='therapy_id', how='left')\n",
        "consolidated_data_holdout.fillna(0, inplace=True)\n"
      ],
      "metadata": {
        "id": "mhjuOAvCz3an"
      },
      "execution_count": null,
      "outputs": []
    },
    {
      "cell_type": "code",
      "source": [
        "# Align columns of holdout data with training data\n",
        "common_columns = set(consolidated_data.columns) & set(consolidated_data_holdout.columns)\n",
        "\n",
        "# Filter and reorder columns in consolidated_data_holdout to match consolidated_data\n",
        "consolidated_data_holdout = consolidated_data_holdout[common_columns]\n",
        "\n",
        "# Ensure all columns in consolidated_data are present in consolidated_data_holdout\n",
        "missing_columns = set(consolidated_data.columns) - set(consolidated_data_holdout.columns)\n",
        "for column in missing_columns:\n",
        "    consolidated_data_holdout[column] = 0  # Fill missing columns with zeros\n",
        "\n",
        "# Reorder columns to match the order in consolidated_data\n",
        "consolidated_data_holdout = consolidated_data_holdout[consolidated_data.columns]\n"
      ],
      "metadata": {
        "colab": {
          "base_uri": "https://localhost:8080/"
        },
        "id": "6rU5PJiu6uYO",
        "outputId": "75db7b11-ec7b-439b-d92f-f1f274b7811e"
      },
      "execution_count": null,
      "outputs": [
        {
          "output_type": "stream",
          "name": "stderr",
          "text": [
            "<ipython-input-113-245fc551c6eb>:5: FutureWarning: Passing a set as an indexer is deprecated and will raise in a future version. Use a list instead.\n",
            "  consolidated_data_holdout = consolidated_data_holdout[common_columns]\n",
            "<ipython-input-113-245fc551c6eb>:10: SettingWithCopyWarning: \n",
            "A value is trying to be set on a copy of a slice from a DataFrame.\n",
            "Try using .loc[row_indexer,col_indexer] = value instead\n",
            "\n",
            "See the caveats in the documentation: https://pandas.pydata.org/pandas-docs/stable/user_guide/indexing.html#returning-a-view-versus-a-copy\n",
            "  consolidated_data_holdout[column] = 0  # Fill missing columns with zeros\n",
            "<ipython-input-113-245fc551c6eb>:10: SettingWithCopyWarning: \n",
            "A value is trying to be set on a copy of a slice from a DataFrame.\n",
            "Try using .loc[row_indexer,col_indexer] = value instead\n",
            "\n",
            "See the caveats in the documentation: https://pandas.pydata.org/pandas-docs/stable/user_guide/indexing.html#returning-a-view-versus-a-copy\n",
            "  consolidated_data_holdout[column] = 0  # Fill missing columns with zeros\n",
            "<ipython-input-113-245fc551c6eb>:10: SettingWithCopyWarning: \n",
            "A value is trying to be set on a copy of a slice from a DataFrame.\n",
            "Try using .loc[row_indexer,col_indexer] = value instead\n",
            "\n",
            "See the caveats in the documentation: https://pandas.pydata.org/pandas-docs/stable/user_guide/indexing.html#returning-a-view-versus-a-copy\n",
            "  consolidated_data_holdout[column] = 0  # Fill missing columns with zeros\n"
          ]
        }
      ]
    },
    {
      "cell_type": "code",
      "source": [
        "# Assuming you already have the 'output_df' DataFrame\n",
        "\n",
        "# Define the file path where you want to save the CSV file\n",
        "output_csv_path = '/content/drive/MyDrive/output100520232.csv'\n",
        "\n",
        "# Save 'output_df' as a CSV file\n",
        "output_df.to_csv(output_csv_path, index=False)  # Set index=False to exclude the index column\n",
        "\n",
        "# Optionally, print a message to indicate the file has been saved\n",
        "print(f\"CSV file saved to: {output_csv_path}\")"
      ],
      "metadata": {
        "colab": {
          "base_uri": "https://localhost:8080/"
        },
        "id": "GH6k0n1WjT8s",
        "outputId": "dd460173-e5f3-4580-9f70-bd3be22c1956"
      },
      "execution_count": null,
      "outputs": [
        {
          "output_type": "stream",
          "name": "stdout",
          "text": [
            "CSV file saved to: /content/drive/MyDrive/output100520232.csv\n"
          ]
        }
      ]
    }
  ]
}